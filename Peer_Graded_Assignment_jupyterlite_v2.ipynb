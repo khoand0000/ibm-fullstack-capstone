{
  "cells": [
    {
      "cell_type": "markdown",
      "metadata": {
        "id": "cccba67c-f011-47ea-92aa-9538185145ee"
      },
      "source": [
        "<center>\n",
        "    <img src=\"https://s3-api.us-geo.objectstorage.softlayer.net/cf-courses-data/CognitiveClass/Logos/organization_logo/organization_logo.png\" width=\"300\" alt=\"cognitiveclass.ai logo\">\n",
        "</center>\n"
      ]
    },
    {
      "cell_type": "markdown",
      "metadata": {
        "id": "ef235a6c-2eb6-4254-a94f-5aa702e1b6c4"
      },
      "source": [
        "#### Import the required libraries we need for the lab.\n"
      ]
    },
    {
      "cell_type": "code",
      "metadata": {
        "id": "056c9785-c42c-4ee3-9cdb-fa4606224cb3"
      },
      "outputs": [],
      "source": [
        "import pandas as pd\n",
        "import seaborn as sns\n",
        "import matplotlib.pyplot as pyplot\n",
        "import scipy.stats\n",
        "import statsmodels.api as sm\n",
        "from statsmodels.formula.api import ols"
      ],
      "execution_count": 1
    },
    {
      "cell_type": "markdown",
      "metadata": {
        "id": "c0ad07f2-260e-4ad3-a191-f11c140bd39e"
      },
      "source": [
        "#### Read the dataset in the csv file from the URL\n"
      ]
    },
    {
      "cell_type": "code",
      "metadata": {
        "id": "96c6fdfd-5bb0-4469-98b2-f39b7d57cb1f"
      },
      "outputs": [],
      "source": [
        "boston_df=pd.read_csv('https://cf-courses-data.s3.us.cloud-object-storage.appdomain.cloud/IBMDeveloperSkillsNetwork-ST0151EN-SkillsNetwork/labs/boston_housing.csv')"
      ],
      "execution_count": 2
    },
    {
      "cell_type": "markdown",
      "metadata": {
        "id": "55cfa903-c192-4644-9480-dcbdd4f1d335"
      },
      "source": [
        "#### Add your code below following the instructions given in the course to complete the peer graded assignment\n"
      ]
    },
    {
      "cell_type": "code",
      "metadata": {
        "id": "5b8b078d-dd2b-4ddb-8c9d-33aa60bb26a2"
      },
      "outputs": [],
      "source": [
        "The following describes the dataset variables:\n",
        "\n",
        "·      CRIM - per capita crime rate by town\n",
        "\n",
        "·      ZN - proportion of residential land zoned for lots over 25,000 sq.ft.\n",
        "\n",
        "·      INDUS - proportion of non-retail business acres per town.\n",
        "\n",
        "·      CHAS - Charles River dummy variable (1 if tract bounds river; 0 otherwise)\n",
        "\n",
        "·      NOX - nitric oxides concentration (parts per 10 million)\n",
        "\n",
        "·      RM - average number of rooms per dwelling\n",
        "\n",
        "·      AGE - proportion of owner-occupied units built prior to 1940\n",
        "\n",
        "·      DIS - weighted distances to five Boston employment centres\n",
        "\n",
        "·      RAD - index of accessibility to radial highways\n",
        "\n",
        "·      TAX - full-value property-tax rate per $10,000\n",
        "\n",
        "·      PTRATIO - pupil-teacher ratio by town\n",
        "\n",
        "·      LSTAT - % lower status of the population"
      ],
      "execution_count": null
    },
    {
      "cell_type": "markdown",
      "source": [
        "Task 2: Generate Descriptive Statistics and Visualizations\n",
        "For all visualizations, please include a title in each graph and appropriate labels\n",
        "\n",
        "Generate the following and explain your findings:\n",
        "\n",
        "For the \"Median value of owner-occupied homes\" provide a boxplot\n",
        "\n",
        "Provide a  bar plot for the Charles river variable\n",
        "\n",
        "Provide a boxplot for the MEDV variable vs the AGE variable. (Discretize the age variable into three groups of 35 years and younger, between 35 and 70 years and 70 years and older)\n",
        "\n",
        "Provide a scatter plot to show the relationship between Nitric oxide concentrations and the proportion of non-retail business acres per town. What can you say about the relationship?\n",
        "\n",
        "Create a histogram for the pupil to teacher ratio variable"
      ],
      "metadata": {
        "id": "URBvyKCtNvS6"
      }
    },
    {
      "cell_type": "code",
      "source": [],
      "metadata": {
        "id": "c0d6WkO7Nwjr"
      },
      "execution_count": null,
      "outputs": []
    },
    {
      "cell_type": "markdown",
      "metadata": {
        "id": "029c17e0"
      },
      "source": [
        "# Task\n",
        "Analyze the Boston housing dataset by generating and explaining various plots, including boxplots for MEDV and MEDV vs. discretized AGE, a bar plot for CHAS, a scatter plot for NOX vs. INDUS, and a histogram for PTRATIO."
      ]
    },
    {
      "cell_type": "markdown",
      "metadata": {
        "id": "37868b75"
      },
      "source": [
        "## Boxplot for medv\n",
        "\n",
        "### Subtask:\n",
        "Generate a boxplot for the \"Median value of owner-occupied homes\" (MEDV) variable.\n"
      ]
    },
    {
      "cell_type": "markdown",
      "metadata": {
        "id": "ace2a35f"
      },
      "source": [
        "**Reasoning**:\n",
        "Generate a boxplot for the MEDV variable as requested in the subtask.\n",
        "\n"
      ]
    },
    {
      "cell_type": "code",
      "metadata": {
        "colab": {
          "base_uri": "https://localhost:8080/",
          "height": 433
        },
        "id": "10e521fe",
        "outputId": "a28f5a08-0743-472b-f741-63c5fe8a1599"
      },
      "source": [
        "ax = sns.boxplot(y='MEDV', data=boston_df)\n",
        "ax.set_title('Boxplot of Median Value of Owner-Occupied Homes (MEDV)')\n",
        "ax.set_ylabel('Median Value')\n",
        "pyplot.show()"
      ],
      "execution_count": 3,
      "outputs": [
        {
          "output_type": "display_data",
          "data": {
            "text/plain": [
              "<Figure size 640x480 with 1 Axes>"
            ],
            "image/png": "[encoded data removed]"
          },
          "metadata": {}
        }
      ]
    },
    {
      "cell_type": "markdown",
      "metadata": {
        "id": "2bbefa8f"
      },
      "source": [
        "## Bar plot for chas\n",
        "\n",
        "### Subtask:\n",
        "Create a bar plot for the Charles River variable (CHAS).\n"
      ]
    },
    {
      "cell_type": "markdown",
      "metadata": {
        "id": "b789185c"
      },
      "source": [
        "**Reasoning**:\n",
        "Generate a bar plot for the Charles River variable as requested in the instructions.\n",
        "\n"
      ]
    },
    {
      "cell_type": "code",
      "metadata": {
        "colab": {
          "base_uri": "https://localhost:8080/",
          "height": 472
        },
        "id": "91fb03a1",
        "outputId": "7deb1854-bf97-4b65-8897-27c6fd53f6f1"
      },
      "source": [
        "ax = sns.countplot(x='CHAS', data=boston_df)\n",
        "ax.set_title('Count of Properties Bounding the Charles River')\n",
        "ax.set_xlabel('Charles River (1: Bounds River, 0: Does not Bound River)')\n",
        "ax.set_ylabel('Count')\n",
        "pyplot.show()"
      ],
      "execution_count": 4,
      "outputs": [
        {
          "output_type": "display_data",
          "data": {
            "text/plain": [
              "<Figure size 640x480 with 1 Axes>"
            ],
            "image/png": "[encoded data removed]"
          },
          "metadata": {}
        }
      ]
    },
    {
      "cell_type": "markdown",
      "metadata": {
        "id": "ec6ad881"
      },
      "source": [
        "## Discretize age\n",
        "\n",
        "### Subtask:\n",
        "Discretize the AGE variable into three groups: 35 years and younger, between 35 and 70 years, and 70 years and older.\n"
      ]
    },
    {
      "cell_type": "markdown",
      "metadata": {
        "id": "0fe229e4"
      },
      "source": [
        "**Reasoning**:\n",
        "Discretize the 'AGE' variable into three groups and create a new column 'AGE_group' in the DataFrame.\n",
        "\n"
      ]
    },
    {
      "cell_type": "code",
      "metadata": {
        "colab": {
          "base_uri": "https://localhost:8080/",
          "height": 206
        },
        "id": "f005554f",
        "outputId": "53ca4a75-3090-4b41-d7e3-6cdbe7693cbd"
      },
      "source": [
        "boston_df['AGE_group'] = pd.cut(boston_df['AGE'], bins=[0, 35, 70, float('inf')], labels=[\"35 years and younger\", \"between 35 and 70 years\", \"70 years and older\"])\n",
        "display(boston_df.head())"
      ],
      "execution_count": 5,
      "outputs": [
        {
          "output_type": "display_data",
          "data": {
            "text/plain": [
              "   Unnamed: 0     CRIM    ZN  INDUS  CHAS    NOX     RM   AGE     DIS  RAD  \\\n",
              "0           0  0.00632  18.0   2.31   0.0  0.538  6.575  65.2  4.0900  1.0   \n",
              "1           1  0.02731   0.0   7.07   0.0  0.469  6.421  78.9  4.9671  2.0   \n",
              "2           2  0.02729   0.0   7.07   0.0  0.469  7.185  61.1  4.9671  2.0   \n",
              "3           3  0.03237   0.0   2.18   0.0  0.458  6.998  45.8  6.0622  3.0   \n",
              "4           4  0.06905   0.0   2.18   0.0  0.458  7.147  54.2  6.0622  3.0   \n",
              "\n",
              "     TAX  PTRATIO  LSTAT  MEDV                AGE_group  \n",
              "0  296.0     15.3   4.98  24.0  between 35 and 70 years  \n",
              "1  242.0     17.8   9.14  21.6       70 years and older  \n",
              "2  242.0     17.8   4.03  34.7  between 35 and 70 years  \n",
              "3  222.0     18.7   2.94  33.4  between 35 and 70 years  \n",
              "4  222.0     18.7   5.33  36.2  between 35 and 70 years  "
            ],
            "text/html": [
              "\n",
              "  <div id=\"df-e670f1d5-228e-4464-b884-d3eda2bba811\" class=\"colab-df-container\">\n",
              "    <div>\n",
              "<style scoped>\n",
              "    .dataframe tbody tr th:only-of-type {\n",
              "        vertical-align: middle;\n",
              "    }\n",
              "\n",
              "    .dataframe tbody tr th {\n",
              "        vertical-align: top;\n",
              "    }\n",
              "\n",
              "    .dataframe thead th {\n",
              "        text-align: right;\n",
              "    }\n",
              "</style>\n",
              "<table border=\"1\" class=\"dataframe\">\n",
              "  <thead>\n",
              "    <tr style=\"text-align: right;\">\n",
              "      <th></th>\n",
              "      <th>Unnamed: 0</th>\n",
              "      <th>CRIM</th>\n",
              "      <th>ZN</th>\n",
              "      <th>INDUS</th>\n",
              "      <th>CHAS</th>\n",
              "      <th>NOX</th>\n",
              "      <th>RM</th>\n",
              "      <th>AGE</th>\n",
              "      <th>DIS</th>\n",
              "      <th>RAD</th>\n",
              "      <th>TAX</th>\n",
              "      <th>PTRATIO</th>\n",
              "      <th>LSTAT</th>\n",
              "      <th>MEDV</th>\n",
              "      <th>AGE_group</th>\n",
              "    </tr>\n",
              "  </thead>\n",
              "  <tbody>\n",
              "    <tr>\n",
              "      <th>0</th>\n",
              "      <td>0</td>\n",
              "      <td>0.00632</td>\n",
              "      <td>18.0</td>\n",
              "      <td>2.31</td>\n",
              "      <td>0.0</td>\n",
              "      <td>0.538</td>\n",
              "      <td>6.575</td>\n",
              "      <td>65.2</td>\n",
              "      <td>4.0900</td>\n",
              "      <td>1.0</td>\n",
              "      <td>296.0</td>\n",
              "      <td>15.3</td>\n",
              "      <td>4.98</td>\n",
              "      <td>24.0</td>\n",
              "      <td>between 35 and 70 years</td>\n",
              "    </tr>\n",
              "    <tr>\n",
              "      <th>1</th>\n",
              "      <td>1</td>\n",
              "      <td>0.02731</td>\n",
              "      <td>0.0</td>\n",
              "      <td>7.07</td>\n",
              "      <td>0.0</td>\n",
              "      <td>0.469</td>\n",
              "      <td>6.421</td>\n",
              "      <td>78.9</td>\n",
              "      <td>4.9671</td>\n",
              "      <td>2.0</td>\n",
              "      <td>242.0</td>\n",
              "      <td>17.8</td>\n",
              "      <td>9.14</td>\n",
              "      <td>21.6</td>\n",
              "      <td>70 years and older</td>\n",
              "    </tr>\n",
              "    <tr>\n",
              "      <th>2</th>\n",
              "      <td>2</td>\n",
              "      <td>0.02729</td>\n",
              "      <td>0.0</td>\n",
              "      <td>7.07</td>\n",
              "      <td>0.0</td>\n",
              "      <td>0.469</td>\n",
              "      <td>7.185</td>\n",
              "      <td>61.1</td>\n",
              "      <td>4.9671</td>\n",
              "      <td>2.0</td>\n",
              "      <td>242.0</td>\n",
              "      <td>17.8</td>\n",
              "      <td>4.03</td>\n",
              "      <td>34.7</td>\n",
              "      <td>between 35 and 70 years</td>\n",
              "    </tr>\n",
              "    <tr>\n",
              "      <th>3</th>\n",
              "      <td>3</td>\n",
              "      <td>0.03237</td>\n",
              "      <td>0.0</td>\n",
              "      <td>2.18</td>\n",
              "      <td>0.0</td>\n",
              "      <td>0.458</td>\n",
              "      <td>6.998</td>\n",
              "      <td>45.8</td>\n",
              "      <td>6.0622</td>\n",
              "      <td>3.0</td>\n",
              "      <td>222.0</td>\n",
              "      <td>18.7</td>\n",
              "      <td>2.94</td>\n",
              "      <td>33.4</td>\n",
              "      <td>between 35 and 70 years</td>\n",
              "    </tr>\n",
              "    <tr>\n",
              "      <th>4</th>\n",
              "      <td>4</td>\n",
              "      <td>0.06905</td>\n",
              "      <td>0.0</td>\n",
              "      <td>2.18</td>\n",
              "      <td>0.0</td>\n",
              "      <td>0.458</td>\n",
              "      <td>7.147</td>\n",
              "      <td>54.2</td>\n",
              "      <td>6.0622</td>\n",
              "      <td>3.0</td>\n",
              "      <td>222.0</td>\n",
              "      <td>18.7</td>\n",
              "      <td>5.33</td>\n",
              "      <td>36.2</td>\n",
              "      <td>between 35 and 70 years</td>\n",
              "    </tr>\n",
              "  </tbody>\n",
              "</table>\n",
              "</div>\n",
              "    <div class=\"colab-df-buttons\">\n",
              "\n",
              "  <div class=\"colab-df-container\">\n",
              "    <button class=\"colab-df-convert\" onclick=\"convertToInteractive('df-e670f1d5-228e-4464-b884-d3eda2bba811')\"\n",
              "            title=\"Convert this dataframe to an interactive table.\"\n",
              "            style=\"display:none;\">\n",
              "\n",
              "  <svg xmlns=\"http://www.w3.org/2000/svg\" height=\"24px\" viewBox=\"0 -960 960 960\">\n",
              "    <path d=\"M120-120v-720h720v720H120Zm60-500h600v-160H180v160Zm220 220h160v-160H400v160Zm0 220h160v-160H400v160ZM180-400h160v-160H180v160Zm440 0h160v-160H620v160ZM180-180h160v-160H180v160Zm440 0h160v-160H620v160Z\"/>\n",
              "  </svg>\n",
              "    </button>\n",
              "\n",
              "  <style>\n",
              "    .colab-df-container {\n",
              "      display:flex;\n",
              "      gap: 12px;\n",
              "    }\n",
              "\n",
              "    .colab-df-convert {\n",
              "      background-color: #E8F0FE;\n",
              "      border: none;\n",
              "      border-radius: 50%;\n",
              "      cursor: pointer;\n",
              "      display: none;\n",
              "      fill: #1967D2;\n",
              "      height: 32px;\n",
              "      padding: 0 0 0 0;\n",
              "      width: 32px;\n",
              "    }\n",
              "\n",
              "    .colab-df-convert:hover {\n",
              "      background-color: #E2EBFA;\n",
              "      box-shadow: 0px 1px 2px rgba(60, 64, 67, 0.3), 0px 1px 3px 1px rgba(60, 64, 67, 0.15);\n",
              "      fill: #174EA6;\n",
              "    }\n",
              "\n",
              "    .colab-df-buttons div {\n",
              "      margin-bottom: 4px;\n",
              "    }\n",
              "\n",
              "    [theme=dark] .colab-df-convert {\n",
              "      background-color: #3B4455;\n",
              "      fill: #D2E3FC;\n",
              "    }\n",
              "\n",
              "    [theme=dark] .colab-df-convert:hover {\n",
              "      background-color: #434B5C;\n",
              "      box-shadow: 0px 1px 3px 1px rgba(0, 0, 0, 0.15);\n",
              "      filter: drop-shadow(0px 1px 2px rgba(0, 0, 0, 0.3));\n",
              "      fill: #FFFFFF;\n",
              "    }\n",
              "  </style>\n",
              "\n",
              "    <script>\n",
              "      const buttonEl =\n",
              "        document.querySelector('#df-e670f1d5-228e-4464-b884-d3eda2bba811 button.colab-df-convert');\n",
              "      buttonEl.style.display =\n",
              "        google.colab.kernel.accessAllowed ? 'block' : 'none';\n",
              "\n",
              "      async function convertToInteractive(key) {\n",
              "        const element = document.querySelector('#df-e670f1d5-228e-4464-b884-d3eda2bba811');\n",
              "        const dataTable =\n",
              "          await google.colab.kernel.invokeFunction('convertToInteractive',\n",
              "                                                    [key], {});\n",
              "        if (!dataTable) return;\n",
              "\n",
              "        const docLinkHtml = 'Like what you see? Visit the ' +\n",
              "          '<a target=\"_blank\" href=https://colab.research.google.com/notebooks/data_table.ipynb>data table notebook</a>'\n",
              "          + ' to learn more about interactive tables.';\n",
              "        element.innerHTML = '';\n",
              "        dataTable['output_type'] = 'display_data';\n",
              "        await google.colab.output.renderOutput(dataTable, element);\n",
              "        const docLink = document.createElement('div');\n",
              "        docLink.innerHTML = docLinkHtml;\n",
              "        element.appendChild(docLink);\n",
              "      }\n",
              "    </script>\n",
              "  </div>\n",
              "\n",
              "\n",
              "    <div id=\"df-2424eec6-dab2-4b41-af8f-c002983651e6\">\n",
              "      <button class=\"colab-df-quickchart\" onclick=\"quickchart('df-2424eec6-dab2-4b41-af8f-c002983651e6')\"\n",
              "                title=\"Suggest charts\"\n",
              "                style=\"display:none;\">\n",
              "\n",
              "<svg xmlns=\"http://www.w3.org/2000/svg\" height=\"24px\"viewBox=\"0 0 24 24\"\n",
              "     width=\"24px\">\n",
              "    <g>\n",
              "        <path d=\"M19 3H5c-1.1 0-2 .9-2 2v14c0 1.1.9 2 2 2h14c1.1 0 2-.9 2-2V5c0-1.1-.9-2-2-2zM9 17H7v-7h2v7zm4 0h-2V7h2v10zm4 0h-2v-4h2v4z\"/>\n",
              "    </g>\n",
              "</svg>\n",
              "      </button>\n",
              "\n",
              "<style>\n",
              "  .colab-df-quickchart {\n",
              "      --bg-color: #E8F0FE;\n",
              "      --fill-color: #1967D2;\n",
              "      --hover-bg-color: #E2EBFA;\n",
              "      --hover-fill-color: #174EA6;\n",
              "      --disabled-fill-color: #AAA;\n",
              "      --disabled-bg-color: #DDD;\n",
              "  }\n",
              "\n",
              "  [theme=dark] .colab-df-quickchart {\n",
              "      --bg-color: #3B4455;\n",
              "      --fill-color: #D2E3FC;\n",
              "      --hover-bg-color: #434B5C;\n",
              "      --hover-fill-color: #FFFFFF;\n",
              "      --disabled-bg-color: #3B4455;\n",
              "      --disabled-fill-color: #666;\n",
              "  }\n",
              "\n",
              "  .colab-df-quickchart {\n",
              "    background-color: var(--bg-color);\n",
              "    border: none;\n",
              "    border-radius: 50%;\n",
              "    cursor: pointer;\n",
              "    display: none;\n",
              "    fill: var(--fill-color);\n",
              "    height: 32px;\n",
              "    padding: 0;\n",
              "    width: 32px;\n",
              "  }\n",
              "\n",
              "  .colab-df-quickchart:hover {\n",
              "    background-color: var(--hover-bg-color);\n",
              "    box-shadow: 0 1px 2px rgba(60, 64, 67, 0.3), 0 1px 3px 1px rgba(60, 64, 67, 0.15);\n",
              "    fill: var(--button-hover-fill-color);\n",
              "  }\n",
              "\n",
              "  .colab-df-quickchart-complete:disabled,\n",
              "  .colab-df-quickchart-complete:disabled:hover {\n",
              "    background-color: var(--disabled-bg-color);\n",
              "    fill: var(--disabled-fill-color);\n",
              "    box-shadow: none;\n",
              "  }\n",
              "\n",
              "  .colab-df-spinner {\n",
              "    border: 2px solid var(--fill-color);\n",
              "    border-color: transparent;\n",
              "    border-bottom-color: var(--fill-color);\n",
              "    animation:\n",
              "      spin 1s steps(1) infinite;\n",
              "  }\n",
              "\n",
              "  @keyframes spin {\n",
              "    0% {\n",
              "      border-color: transparent;\n",
              "      border-bottom-color: var(--fill-color);\n",
              "      border-left-color: var(--fill-color);\n",
              "    }\n",
              "    20% {\n",
              "      border-color: transparent;\n",
              "      border-left-color: var(--fill-color);\n",
              "      border-top-color: var(--fill-color);\n",
              "    }\n",
              "    30% {\n",
              "      border-color: transparent;\n",
              "      border-left-color: var(--fill-color);\n",
              "      border-top-color: var(--fill-color);\n",
              "      border-right-color: var(--fill-color);\n",
              "    }\n",
              "    40% {\n",
              "      border-color: transparent;\n",
              "      border-right-color: var(--fill-color);\n",
              "      border-top-color: var(--fill-color);\n",
              "    }\n",
              "    60% {\n",
              "      border-color: transparent;\n",
              "      border-right-color: var(--fill-color);\n",
              "    }\n",
              "    80% {\n",
              "      border-color: transparent;\n",
              "      border-right-color: var(--fill-color);\n",
              "      border-bottom-color: var(--fill-color);\n",
              "    }\n",
              "    90% {\n",
              "      border-color: transparent;\n",
              "      border-bottom-color: var(--fill-color);\n",
              "    }\n",
              "  }\n",
              "</style>\n",
              "\n",
              "      <script>\n",
              "        async function quickchart(key) {\n",
              "          const quickchartButtonEl =\n",
              "            document.querySelector('#' + key + ' button');\n",
              "          quickchartButtonEl.disabled = true;  // To prevent multiple clicks.\n",
              "          quickchartButtonEl.classList.add('colab-df-spinner');\n",
              "          try {\n",
              "            const charts = await google.colab.kernel.invokeFunction(\n",
              "                'suggestCharts', [key], {});\n",
              "          } catch (error) {\n",
              "            console.error('Error during call to suggestCharts:', error);\n",
              "          }\n",
              "          quickchartButtonEl.classList.remove('colab-df-spinner');\n",
              "          quickchartButtonEl.classList.add('colab-df-quickchart-complete');\n",
              "        }\n",
              "        (() => {\n",
              "          let quickchartButtonEl =\n",
              "            document.querySelector('#df-2424eec6-dab2-4b41-af8f-c002983651e6 button');\n",
              "          quickchartButtonEl.style.display =\n",
              "            google.colab.kernel.accessAllowed ? 'block' : 'none';\n",
              "        })();\n",
              "      </script>\n",
              "    </div>\n",
              "\n",
              "    </div>\n",
              "  </div>\n"
            ],
            "application/vnd.google.colaboratory.intrinsic+json": {
              "type": "dataframe",
              "summary": "{\n  \"name\": \"display(boston_df\",\n  \"rows\": 5,\n  \"fields\": [\n    {\n      \"column\": \"Unnamed: 0\",\n      \"properties\": {\n        \"dtype\": \"number\",\n        \"std\": 1,\n        \"min\": 0,\n        \"max\": 4,\n        \"num_unique_values\": 5,\n        \"samples\": [\n          1,\n          4,\n          2\n        ],\n        \"semantic_type\": \"\",\n        \"description\": \"\"\n      }\n    },\n    {\n      \"column\": \"CRIM\",\n      \"properties\": {\n        \"dtype\": \"number\",\n        \"std\": 0.02277820712874479,\n        \"min\": 0.00632,\n        \"max\": 0.06905,\n        \"num_unique_values\": 5,\n        \"samples\": [\n          0.02731,\n          0.06905,\n          0.02729\n        ],\n        \"semantic_type\": \"\",\n        \"description\": \"\"\n      }\n    },\n    {\n      \"column\": \"ZN\",\n      \"properties\": {\n        \"dtype\": \"number\",\n        \"std\": 8.049844718999244,\n        \"min\": 0.0,\n        \"max\": 18.0,\n        \"num_unique_values\": 2,\n        \"samples\": [\n          0.0,\n          18.0\n        ],\n        \"semantic_type\": \"\",\n        \"description\": \"\"\n      }\n    },\n    {\n      \"column\": \"INDUS\",\n      \"properties\": {\n        \"dtype\": \"number\",\n        \"std\": 2.6551591289412393,\n        \"min\": 2.18,\n        \"max\": 7.07,\n        \"num_unique_values\": 3,\n        \"samples\": [\n          2.31,\n          7.07\n        ],\n        \"semantic_type\": \"\",\n        \"description\": \"\"\n      }\n    },\n    {\n      \"column\": \"CHAS\",\n      \"properties\": {\n        \"dtype\": \"number\",\n        \"std\": 0.0,\n        \"min\": 0.0,\n        \"max\": 0.0,\n        \"num_unique_values\": 1,\n        \"samples\": [\n          0.0\n        ],\n        \"semantic_type\": \"\",\n        \"description\": \"\"\n      }\n    },\n    {\n      \"column\": \"NOX\",\n      \"properties\": {\n        \"dtype\": \"number\",\n        \"std\": 0.03376832835661252,\n        \"min\": 0.458,\n        \"max\": 0.538,\n        \"num_unique_values\": 3,\n        \"samples\": [\n          0.538\n        ],\n        \"semantic_type\": \"\",\n        \"description\": \"\"\n      }\n    },\n    {\n      \"column\": \"RM\",\n      \"properties\": {\n        \"dtype\": \"number\",\n        \"std\": 0.3467163105479751,\n        \"min\": 6.421,\n        \"max\": 7.185,\n        \"num_unique_values\": 5,\n        \"samples\": [\n          6.421\n        ],\n        \"semantic_type\": \"\",\n        \"description\": \"\"\n      }\n    },\n    {\n      \"column\": \"AGE\",\n      \"properties\": {\n        \"dtype\": \"number\",\n        \"std\": 12.402943199095933,\n        \"min\": 45.8,\n        \"max\": 78.9,\n        \"num_unique_values\": 5,\n        \"samples\": [\n          78.9\n        ],\n        \"semantic_type\": \"\",\n        \"description\": \"\"\n      }\n    },\n    {\n      \"column\": \"DIS\",\n      \"properties\": {\n        \"dtype\": \"number\",\n        \"std\": 0.8400812621407525,\n        \"min\": 4.09,\n        \"max\": 6.0622,\n        \"num_unique_values\": 3,\n        \"samples\": [\n          4.09\n        ],\n        \"semantic_type\": \"\",\n        \"description\": \"\"\n      }\n    },\n    {\n      \"column\": \"RAD\",\n      \"properties\": {\n        \"dtype\": \"number\",\n        \"std\": 0.8366600265340756,\n        \"min\": 1.0,\n        \"max\": 3.0,\n        \"num_unique_values\": 3,\n        \"samples\": [\n          1.0\n        ],\n        \"semantic_type\": \"\",\n        \"description\": \"\"\n      }\n    },\n    {\n      \"column\": \"TAX\",\n      \"properties\": {\n        \"dtype\": \"number\",\n        \"std\": 30.31831129861952,\n        \"min\": 222.0,\n        \"max\": 296.0,\n        \"num_unique_values\": 3,\n        \"samples\": [\n          296.0\n        ],\n        \"semantic_type\": \"\",\n        \"description\": \"\"\n      }\n    },\n    {\n      \"column\": \"PTRATIO\",\n      \"properties\": {\n        \"dtype\": \"number\",\n        \"std\": 1.393915348936225,\n        \"min\": 15.3,\n        \"max\": 18.7,\n        \"num_unique_values\": 3,\n        \"samples\": [\n          15.3\n        ],\n        \"semantic_type\": \"\",\n        \"description\": \"\"\n      }\n    },\n    {\n      \"column\": \"LSTAT\",\n      \"properties\": {\n        \"dtype\": \"number\",\n        \"std\": 2.346812732196585,\n        \"min\": 2.94,\n        \"max\": 9.14,\n        \"num_unique_values\": 5,\n        \"samples\": [\n          9.14\n        ],\n        \"semantic_type\": \"\",\n        \"description\": \"\"\n      }\n    },\n    {\n      \"column\": \"MEDV\",\n      \"properties\": {\n        \"dtype\": \"number\",\n        \"std\": 6.682963414534005,\n        \"min\": 21.6,\n        \"max\": 36.2,\n        \"num_unique_values\": 5,\n        \"samples\": [\n          21.6\n        ],\n        \"semantic_type\": \"\",\n        \"description\": \"\"\n      }\n    },\n    {\n      \"column\": \"AGE_group\",\n      \"properties\": {\n        \"dtype\": \"category\",\n        \"num_unique_values\": 2,\n        \"samples\": [\n          \"70 years and older\"\n        ],\n        \"semantic_type\": \"\",\n        \"description\": \"\"\n      }\n    }\n  ]\n}"
            }
          },
          "metadata": {}
        }
      ]
    },
    {
      "cell_type": "markdown",
      "metadata": {
        "id": "ec769d59"
      },
      "source": [
        "## Boxplot for medv vs. age groups\n",
        "\n",
        "### Subtask:\n",
        "Provide a boxplot for the MEDV variable against the discretized AGE variable.\n"
      ]
    },
    {
      "cell_type": "markdown",
      "metadata": {
        "id": "30ee69ff"
      },
      "source": [
        "**Reasoning**:\n",
        "Generate a boxplot of the MEDV variable against the discretized AGE variable as requested in the instructions.\n",
        "\n"
      ]
    },
    {
      "cell_type": "code",
      "metadata": {
        "colab": {
          "base_uri": "https://localhost:8080/",
          "height": 472
        },
        "id": "7e074ece",
        "outputId": "f16b661b-4deb-4361-8789-c6ed7b64d0a1"
      },
      "source": [
        "ax = sns.boxplot(x='AGE_group', y='MEDV', data=boston_df)\n",
        "ax.set_title('Median Value of Homes vs. Age Group')\n",
        "ax.set_xlabel('Age Group')\n",
        "ax.set_ylabel('Median Value of Homes')\n",
        "pyplot.show()"
      ],
      "execution_count": 6,
      "outputs": [
        {
          "output_type": "display_data",
          "data": {
            "text/plain": [
              "<Figure size 640x480 with 1 Axes>"
            ],
            "image/png": "[encoded data removed]"
          },
          "metadata": {}
        }
      ]
    },
    {
      "cell_type": "markdown",
      "metadata": {
        "id": "f96526cb"
      },
      "source": [
        "## Scatter plot for nox vs. indus\n",
        "\n",
        "### Subtask:\n",
        "Generate a scatter plot to show the relationship between Nitric oxide concentrations (NOX) and the proportion of non-retail business acres per town (INDUS).\n"
      ]
    },
    {
      "cell_type": "markdown",
      "metadata": {
        "id": "2b94fade"
      },
      "source": [
        "**Reasoning**:\n",
        "Generate a scatter plot to visualize the relationship between Nitric oxide concentrations (NOX) and the proportion of non-retail business acres per town (INDUS).\n",
        "\n"
      ]
    },
    {
      "cell_type": "code",
      "metadata": {
        "colab": {
          "base_uri": "https://localhost:8080/",
          "height": 472
        },
        "id": "06cc9a5f",
        "outputId": "f2959a08-e3bd-4541-a70e-e4e3da756d49"
      },
      "source": [
        "ax = sns.scatterplot(x='INDUS', y='NOX', data=boston_df)\n",
        "ax.set_title('Relationship between Nitric Oxide Concentration and Non-Retail Business Acres')\n",
        "ax.set_xlabel('Proportion of Non-Retail Business Acres')\n",
        "ax.set_ylabel('Nitric Oxide Concentration')\n",
        "pyplot.show()"
      ],
      "execution_count": 7,
      "outputs": [
        {
          "output_type": "display_data",
          "data": {
            "text/plain": [
              "<Figure size 640x480 with 1 Axes>"
            ],
            "image/png": "[encoded data removed]"
          },
          "metadata": {}
        }
      ]
    },
    {
      "cell_type": "markdown",
      "metadata": {
        "id": "fd80078c"
      },
      "source": [
        "## Histogram for ptratio\n",
        "\n",
        "### Subtask:\n",
        "Create a histogram for the pupil to teacher ratio (PTRATIO) variable.\n"
      ]
    },
    {
      "cell_type": "markdown",
      "metadata": {
        "id": "d06b23cc"
      },
      "source": [
        "**Reasoning**:\n",
        "Create a histogram for the 'PTRATIO' column with appropriate title and labels.\n",
        "\n"
      ]
    },
    {
      "cell_type": "code",
      "metadata": {
        "colab": {
          "base_uri": "https://localhost:8080/",
          "height": 472
        },
        "id": "b16e73e6",
        "outputId": "e2aac97b-871e-4c0c-bb03-a4d4d6ff5248"
      },
      "source": [
        "ax = sns.histplot(x='PTRATIO', data=boston_df)\n",
        "ax.set_title('Distribution of Pupil-Teacher Ratio')\n",
        "ax.set_xlabel('Pupil-Teacher Ratio')\n",
        "ax.set_ylabel('Frequency')\n",
        "pyplot.show()"
      ],
      "execution_count": 8,
      "outputs": [
        {
          "output_type": "display_data",
          "data": {
            "text/plain": [
              "<Figure size 640x480 with 1 Axes>"
            ],
            "image/png": "[encoded data removed]"
          },
          "metadata": {}
        }
      ]
    },
    {
      "cell_type": "markdown",
      "metadata": {
        "id": "1c04197d"
      },
      "source": [
        "## Explain findings\n",
        "\n",
        "### Subtask:\n",
        "Provide explanations for each generated plot.\n"
      ]
    },
    {
      "cell_type": "markdown",
      "metadata": {
        "id": "6049d3cb"
      },
      "source": [
        "**Reasoning**:\n",
        "Examine the boxplot for MEDV and describe the distribution of median home values.\n",
        "\n"
      ]
    },
    {
      "cell_type": "code",
      "metadata": {
        "colab": {
          "base_uri": "https://localhost:8080/"
        },
        "id": "4a401db3",
        "outputId": "62f3e069-781f-4379-b751-57eff52acbfa"
      },
      "source": [
        "print(\"Explanation for MEDV Boxplot:\")\n",
        "print(\"The boxplot of the Median Value of Owner-Occupied Homes (MEDV) shows the distribution of home values.\")\n",
        "print(f\"The median MEDV is around {boston_df['MEDV'].median():.2f}.\")\n",
        "print(f\"The interquartile range (IQR), which represents the middle 50% of the data, is visible as the box.\")\n",
        "print(\"The whiskers extend to show the range of the data, excluding outliers.\")\n",
        "print(\"Points beyond the whiskers represent potential outliers, indicating properties with significantly higher or lower median values compared to the majority.\")"
      ],
      "execution_count": 9,
      "outputs": [
        {
          "output_type": "stream",
          "name": "stdout",
          "text": [
            "Explanation for MEDV Boxplot:\n",
            "The boxplot of the Median Value of Owner-Occupied Homes (MEDV) shows the distribution of home values.\n",
            "The median MEDV is around 21.20.\n",
            "The interquartile range (IQR), which represents the middle 50% of the data, is visible as the box.\n",
            "The whiskers extend to show the range of the data, excluding outliers.\n",
            "Points beyond the whiskers represent potential outliers, indicating properties with significantly higher or lower median values compared to the majority.\n"
          ]
        }
      ]
    },
    {
      "cell_type": "markdown",
      "metadata": {
        "id": "8f165ae7"
      },
      "source": [
        "**Reasoning**:\n",
        "Analyze the bar plot for CHAS and explain what it reveals about the proportion of properties that bound the Charles River.\n",
        "\n"
      ]
    },
    {
      "cell_type": "code",
      "metadata": {
        "colab": {
          "base_uri": "https://localhost:8080/"
        },
        "id": "b0291f04",
        "outputId": "675b3b29-55bb-4adb-95ab-5971e07a35b8"
      },
      "source": [
        "print(\"\\nExplanation for CHAS Bar Plot:\")\n",
        "chas_counts = boston_df['CHAS'].value_counts()\n",
        "print(\"The bar plot for the Charles River variable (CHAS) shows the count of properties that bound the Charles River (1) and those that do not (0).\")\n",
        "print(f\"There are {chas_counts.get(1.0, 0)} properties that bound the Charles River and {chas_counts.get(0.0, 0)} properties that do not.\")\n",
        "print(\"This plot reveals the proportion of properties in the dataset located along the Charles River.\")"
      ],
      "execution_count": 10,
      "outputs": [
        {
          "output_type": "stream",
          "name": "stdout",
          "text": [
            "\n",
            "Explanation for CHAS Bar Plot:\n",
            "The bar plot for the Charles River variable (CHAS) shows the count of properties that bound the Charles River (1) and those that do not (0).\n",
            "There are 35 properties that bound the Charles River and 471 properties that do not.\n",
            "This plot reveals the proportion of properties in the dataset located along the Charles River.\n"
          ]
        }
      ]
    },
    {
      "cell_type": "markdown",
      "metadata": {
        "id": "16d3e6c5"
      },
      "source": [
        "**Reasoning**:\n",
        "Interpret the boxplot of MEDV vs. AGE groups. Compare the median home values and their spread across the three age groups.\n",
        "\n"
      ]
    },
    {
      "cell_type": "code",
      "metadata": {
        "colab": {
          "base_uri": "https://localhost:8080/"
        },
        "id": "a24e87e7",
        "outputId": "39f99cef-247f-40ef-d404-12317f17507b"
      },
      "source": [
        "print(\"\\nExplanation for MEDV vs. AGE Group Boxplot:\")\n",
        "print(\"The boxplot of MEDV versus discretized AGE groups compares the distribution of median home values across properties built in different time periods.\")\n",
        "print(\"It appears that the median value of homes tends to decrease as the age of the property increases, particularly for properties built before 1940 (70 years and older).\")\n",
        "print(\"The spread (IQR) of MEDV might also vary across the age groups, suggesting different levels of variability in home values depending on when they were built.\")"
      ],
      "execution_count": 11,
      "outputs": [
        {
          "output_type": "stream",
          "name": "stdout",
          "text": [
            "\n",
            "Explanation for MEDV vs. AGE Group Boxplot:\n",
            "The boxplot of MEDV versus discretized AGE groups compares the distribution of median home values across properties built in different time periods.\n",
            "It appears that the median value of homes tends to decrease as the age of the property increases, particularly for properties built before 1940 (70 years and older).\n",
            "The spread (IQR) of MEDV might also vary across the age groups, suggesting different levels of variability in home values depending on when they were built.\n"
          ]
        }
      ]
    },
    {
      "cell_type": "markdown",
      "metadata": {
        "id": "f83d849b"
      },
      "source": [
        "**Reasoning**:\n",
        "Describe the relationship observed in the scatter plot between NOX and INDUS. Comment on whether there appears to be a positive, negative, or no clear correlation.\n",
        "\n"
      ]
    },
    {
      "cell_type": "code",
      "metadata": {
        "colab": {
          "base_uri": "https://localhost:8080/"
        },
        "id": "91671420",
        "outputId": "d356e5e3-874b-4130-c8ea-43f982d33139"
      },
      "source": [
        "print(\"\\nExplanation for NOX vs. INDUS Scatter Plot:\")\n",
        "print(\"The scatter plot of Nitric Oxide concentrations (NOX) versus the proportion of non-retail business acres per town (INDUS) shows the relationship between these two variables.\")\n",
        "print(\"There appears to be a positive correlation between NOX and INDUS. As the proportion of non-retail business acres increases, the nitric oxide concentration also tends to increase.\")\n",
        "print(\"This suggests that areas with more industrial and commercial activity tend to have higher levels of nitric oxides.\")"
      ],
      "execution_count": 12,
      "outputs": [
        {
          "output_type": "stream",
          "name": "stdout",
          "text": [
            "\n",
            "Explanation for NOX vs. INDUS Scatter Plot:\n",
            "The scatter plot of Nitric Oxide concentrations (NOX) versus the proportion of non-retail business acres per town (INDUS) shows the relationship between these two variables.\n",
            "There appears to be a positive correlation between NOX and INDUS. As the proportion of non-retail business acres increases, the nitric oxide concentration also tends to increase.\n",
            "This suggests that areas with more industrial and commercial activity tend to have higher levels of nitric oxides.\n"
          ]
        }
      ]
    },
    {
      "cell_type": "markdown",
      "metadata": {
        "id": "c4cb1646"
      },
      "source": [
        "**Reasoning**:\n",
        "Explain the distribution shown in the histogram for PTRATIO. Describe the typical pupil-teacher ratio and the variability in this ratio.\n",
        "\n"
      ]
    },
    {
      "cell_type": "code",
      "metadata": {
        "colab": {
          "base_uri": "https://localhost:8080/"
        },
        "id": "0276d29a",
        "outputId": "553deef4-9c95-44c4-a668-100c10e62fc1"
      },
      "source": [
        "print(\"\\nExplanation for PTRATIO Histogram:\")\n",
        "print(\"The histogram of the Pupil-Teacher Ratio (PTRATIO) shows the frequency distribution of this variable across the towns.\")\n",
        "print(\"The distribution appears to be somewhat centered around a certain value, indicating a typical pupil-teacher ratio.\")\n",
        "print(\"The spread of the histogram shows the variability in pupil-teacher ratios among different towns.\")\n",
        "print(\"We can observe which ranges of PTRATIO are most common and if there are any outliers or unusual patterns in the distribution.\")"
      ],
      "execution_count": 13,
      "outputs": [
        {
          "output_type": "stream",
          "name": "stdout",
          "text": [
            "\n",
            "Explanation for PTRATIO Histogram:\n",
            "The histogram of the Pupil-Teacher Ratio (PTRATIO) shows the frequency distribution of this variable across the towns.\n",
            "The distribution appears to be somewhat centered around a certain value, indicating a typical pupil-teacher ratio.\n",
            "The spread of the histogram shows the variability in pupil-teacher ratios among different towns.\n",
            "We can observe which ranges of PTRATIO are most common and if there are any outliers or unusual patterns in the distribution.\n"
          ]
        }
      ]
    },
    {
      "cell_type": "markdown",
      "metadata": {
        "id": "030c74b3"
      },
      "source": [
        "## Summary:\n",
        "\n",
        "### Data Analysis Key Findings\n",
        "\n",
        "*   The median value of owner-occupied homes (MEDV) is approximately \\$21,200.\n",
        "*   The dataset contains significantly more properties that do not bound the Charles River (471) compared to those that do (35).\n",
        "*   There appears to be a trend where the median value of homes decreases as the age of the property increases, particularly for properties 70 years and older.\n",
        "*   A positive correlation exists between Nitric Oxide concentrations (NOX) and the proportion of non-retail business acres per town (INDUS), suggesting higher NOX levels in areas with more industrial and commercial activity.\n",
        "*   The distribution of the pupil-teacher ratio (PTRATIO) is somewhat centered around a typical value, showing variability across different towns.\n",
        "\n",
        "### Insights or Next Steps\n",
        "\n",
        "*   Investigate the outliers in the MEDV boxplot to understand characteristics of properties with exceptionally high or low values.\n",
        "*   Further explore the relationship between property age and MEDV by considering other factors that might influence home values.\n"
      ]
    },
    {
      "cell_type": "markdown",
      "source": [],
      "metadata": {
        "id": "7kXNeF_7OZLF"
      }
    },
    {
      "cell_type": "markdown",
      "metadata": {
        "id": "8d713e66"
      },
      "source": [
        "# Task\n",
        "Perform statistical tests to analyze the Boston housing dataset and answer specific questions about the relationships between different variables, including the impact of the Charles River, age of properties, nitric oxide concentrations, and distance to employment centers on the median value of homes."
      ]
    },
    {
      "cell_type": "markdown",
      "metadata": {
        "id": "384cb266"
      },
      "source": [
        "## T-test for charles river\n",
        "\n",
        "### Subtask:\n",
        "Perform an independent samples t-test to determine if there is a significant difference in the median value of houses bounded by the Charles River compared to those not bounded by it.\n"
      ]
    },
    {
      "cell_type": "markdown",
      "metadata": {
        "id": "329b1ab1"
      },
      "source": [
        "**Reasoning**:\n",
        "Separate the MEDV values into two groups based on the CHAS variable and perform an independent samples t-test.\n",
        "\n"
      ]
    },
    {
      "cell_type": "code",
      "metadata": {
        "colab": {
          "base_uri": "https://localhost:8080/"
        },
        "id": "0a94d4c7",
        "outputId": "0a770b94-5d30-4f2f-a67e-46d6113e1486"
      },
      "source": [
        "from scipy.stats import ttest_ind\n",
        "\n",
        "chas_0 = boston_df[boston_df['CHAS'] == 0]['MEDV']\n",
        "chas_1 = boston_df[boston_df['CHAS'] == 1]['MEDV']\n",
        "\n",
        "t_statistic, p_value = ttest_ind(chas_0, chas_1)\n",
        "\n",
        "print(f\"T-statistic: {t_statistic:.4f}\")\n",
        "print(f\"P-value: {p_value:.4f}\")"
      ],
      "execution_count": 14,
      "outputs": [
        {
          "output_type": "stream",
          "name": "stdout",
          "text": [
            "T-statistic: -3.9964\n",
            "P-value: 0.0001\n"
          ]
        }
      ]
    },
    {
      "cell_type": "markdown",
      "metadata": {
        "id": "7fc85c9b"
      },
      "source": [
        "## Anova for age groups\n",
        "\n",
        "### Subtask:\n",
        "Perform an ANOVA test to determine if there is a difference in the median values of houses (MEDV) for different proportions of owner-occupied units built prior to 1940 (AGE groups).\n"
      ]
    },
    {
      "cell_type": "markdown",
      "metadata": {
        "id": "9029956d"
      },
      "source": [
        "**Reasoning**:\n",
        "Fit a linear model and perform the ANOVA test to determine if there is a difference in MEDV based on AGE groups.\n",
        "\n"
      ]
    },
    {
      "cell_type": "code",
      "metadata": {
        "colab": {
          "base_uri": "https://localhost:8080/",
          "height": 176
        },
        "id": "1d943b02",
        "outputId": "3abe864f-f2b6-4f3c-c0fc-26cee4b311e0"
      },
      "source": [
        "model = ols('MEDV ~ AGE_group', data=boston_df).fit()\n",
        "anova_table = anova_lm(model)\n",
        "print(anova_table)"
      ],
      "execution_count": 15,
      "outputs": [
        {
          "output_type": "error",
          "ename": "NameError",
          "evalue": "name 'anova_lm' is not defined",
          "traceback": [
            "\u001b[0;31m---------------------------------------------------------------------------\u001b[0m",
            "\u001b[0;31mNameError\u001b[0m                                 Traceback (most recent call last)",
            "\u001b[0;32m/tmp/ipython-input-3761672194.py\u001b[0m in \u001b[0;36m<cell line: 0>\u001b[0;34m()\u001b[0m\n\u001b[1;32m      1\u001b[0m \u001b[0mmodel\u001b[0m \u001b[0;34m=\u001b[0m \u001b[0mols\u001b[0m\u001b[0;34m(\u001b[0m\u001b[0;34m'MEDV ~ AGE_group'\u001b[0m\u001b[0;34m,\u001b[0m \u001b[0mdata\u001b[0m\u001b[0;34m=\u001b[0m\u001b[0mboston_df\u001b[0m\u001b[0;34m)\u001b[0m\u001b[0;34m.\u001b[0m\u001b[0mfit\u001b[0m\u001b[0;34m(\u001b[0m\u001b[0;34m)\u001b[0m\u001b[0;34m\u001b[0m\u001b[0;34m\u001b[0m\u001b[0m\n\u001b[0;32m----> 2\u001b[0;31m \u001b[0manova_table\u001b[0m \u001b[0;34m=\u001b[0m \u001b[0manova_lm\u001b[0m\u001b[0;34m(\u001b[0m\u001b[0mmodel\u001b[0m\u001b[0;34m)\u001b[0m\u001b[0;34m\u001b[0m\u001b[0;34m\u001b[0m\u001b[0m\n\u001b[0m\u001b[1;32m      3\u001b[0m \u001b[0mprint\u001b[0m\u001b[0;34m(\u001b[0m\u001b[0manova_table\u001b[0m\u001b[0;34m)\u001b[0m\u001b[0;34m\u001b[0m\u001b[0;34m\u001b[0m\u001b[0m\n",
            "\u001b[0;31mNameError\u001b[0m: name 'anova_lm' is not defined"
          ]
        }
      ]
    },
    {
      "cell_type": "markdown",
      "metadata": {
        "id": "1ee27cb9"
      },
      "source": [
        "**Reasoning**:\n",
        "The previous attempt failed because `anova_lm` was not imported. Import the function and then proceed to fit the model and perform the ANOVA test.\n",
        "\n"
      ]
    },
    {
      "cell_type": "code",
      "metadata": {
        "colab": {
          "base_uri": "https://localhost:8080/"
        },
        "id": "TrtHyi5BOnFj",
        "outputId": "1a2a9933-73bb-4a62-b8c0-357112fbb8e6"
      },
      "source": [
        "from statsmodels.stats.anova import anova_lm\n",
        "\n",
        "model = ols('MEDV ~ AGE_group', data=boston_df).fit()\n",
        "anova_table = anova_lm(model)\n",
        "print(anova_table)"
      ],
      "execution_count": 16,
      "outputs": [
        {
          "output_type": "stream",
          "name": "stdout",
          "text": [
            "              df        sum_sq      mean_sq         F        PR(>F)\n",
            "AGE_group    2.0   5401.731883  2700.865942  36.40765  1.710501e-15\n",
            "Residual   503.0  37314.563532    74.184023       NaN           NaN\n"
          ]
        }
      ]
    },
    {
      "cell_type": "markdown",
      "metadata": {
        "id": "dd750557"
      },
      "source": [
        "## Pearson correlation for nox and indus\n",
        "\n",
        "### Subtask:\n",
        "Calculate the Pearson correlation coefficient and perform a hypothesis test to determine if there is a significant relationship between Nitric oxide concentrations and the proportion of non-retail business acres per town.\n"
      ]
    },
    {
      "cell_type": "markdown",
      "metadata": {
        "id": "757c0c80"
      },
      "source": [
        "**Reasoning**:\n",
        "Calculate the Pearson correlation coefficient and p-value for the relationship between NOX and INDUS.\n",
        "\n"
      ]
    },
    {
      "cell_type": "code",
      "metadata": {
        "colab": {
          "base_uri": "https://localhost:8080/"
        },
        "id": "b40bd647",
        "outputId": "1d681555-a9f6-4f01-ac30-3f36503e4abb"
      },
      "source": [
        "from scipy.stats import pearsonr\n",
        "\n",
        "correlation_coefficient, p_value = pearsonr(boston_df['NOX'], boston_df['INDUS'])\n",
        "\n",
        "print(f\"Pearson correlation coefficient: {correlation_coefficient:.4f}\")\n",
        "print(f\"P-value: {p_value:.4f}\")"
      ],
      "execution_count": 17,
      "outputs": [
        {
          "output_type": "stream",
          "name": "stdout",
          "text": [
            "Pearson correlation coefficient: 0.7637\n",
            "P-value: 0.0000\n"
          ]
        }
      ]
    },
    {
      "cell_type": "markdown",
      "metadata": {
        "id": "ff007a58"
      },
      "source": [
        "## Regression analysis for dis and medv\n",
        "\n",
        "### Subtask:\n",
        "Perform a regression analysis to determine the impact of an additional weighted distance to the five Boston employment centers on the median value of owner-occupied homes.\n"
      ]
    },
    {
      "cell_type": "markdown",
      "metadata": {
        "id": "abe07e7f"
      },
      "source": [
        "**Reasoning**:\n",
        "Define the independent and dependent variables, add a constant to the independent variable, and fit a linear regression model using OLS to determine the impact of DIS on MEDV. Then print the model summary.\n",
        "\n"
      ]
    },
    {
      "cell_type": "code",
      "metadata": {
        "colab": {
          "base_uri": "https://localhost:8080/"
        },
        "id": "626e4638",
        "outputId": "f4bb342d-288c-4d4d-d64f-a2ca6e5d551e"
      },
      "source": [
        "X = boston_df['DIS']\n",
        "y = boston_df['MEDV']\n",
        "X = sm.add_constant(X)\n",
        "\n",
        "model = sm.OLS(y, X).fit()\n",
        "print(model.summary())"
      ],
      "execution_count": 18,
      "outputs": [
        {
          "output_type": "stream",
          "name": "stdout",
          "text": [
            "                            OLS Regression Results                            \n",
            "==============================================================================\n",
            "Dep. Variable:                   MEDV   R-squared:                       0.062\n",
            "Model:                            OLS   Adj. R-squared:                  0.061\n",
            "Method:                 Least Squares   F-statistic:                     33.58\n",
            "Date:                Tue, 02 Sep 2025   Prob (F-statistic):           1.21e-08\n",
            "Time:                        16:20:38   Log-Likelihood:                -1823.9\n",
            "No. Observations:                 506   AIC:                             3652.\n",
            "Df Residuals:                     504   BIC:                             3660.\n",
            "Df Model:                           1                                         \n",
            "Covariance Type:            nonrobust                                         \n",
            "==============================================================================\n",
            "                 coef    std err          t      P>|t|      [0.025      0.975]\n",
            "------------------------------------------------------------------------------\n",
            "const         18.3901      0.817     22.499      0.000      16.784      19.996\n",
            "DIS            1.0916      0.188      5.795      0.000       0.722       1.462\n",
            "==============================================================================\n",
            "Omnibus:                      139.779   Durbin-Watson:                   0.570\n",
            "Prob(Omnibus):                  0.000   Jarque-Bera (JB):              305.104\n",
            "Skew:                           1.466   Prob(JB):                     5.59e-67\n",
            "Kurtosis:                       5.424   Cond. No.                         9.32\n",
            "==============================================================================\n",
            "\n",
            "Notes:\n",
            "[1] Standard Errors assume that the covariance matrix of the errors is correctly specified.\n"
          ]
        }
      ]
    },
    {
      "cell_type": "markdown",
      "metadata": {
        "id": "271a1277"
      },
      "source": [
        "## State hypotheses and conclusions\n",
        "\n",
        "### Subtask:\n",
        "For each statistical test performed (t-test, ANOVA, Pearson correlation, and regression analysis), clearly state the null and alternative hypotheses, the test statistics (t-statistic, F-statistic, correlation coefficient, regression coefficient), and the conclusion based on the p-value and a significance level of $\\alpha = 0.05$.\n"
      ]
    },
    {
      "cell_type": "markdown",
      "metadata": {
        "id": "e5e3f799"
      },
      "source": [
        "**Reasoning**:\n",
        "Summarize the results of the statistical tests, including the hypotheses, test statistics, p-values, and conclusions based on the significance level, as requested by the subtask.\n",
        "\n"
      ]
    },
    {
      "cell_type": "code",
      "metadata": {
        "colab": {
          "base_uri": "https://localhost:8080/",
          "height": 786
        },
        "id": "2b23434b",
        "outputId": "6c062dac-83e0-420a-9d31-7e5c34d3010e"
      },
      "source": [
        "alpha = 0.05\n",
        "\n",
        "# T-test conclusion\n",
        "print(\"T-test (CHAS vs. MEDV):\")\n",
        "print(\"Null Hypothesis (H0): There is no significant difference in the median value of homes between properties that bound the Charles River and those that do not.\")\n",
        "print(\"Alternative Hypothesis (H1): There is a significant difference in the median value of homes between properties that bound the Charles River and those that do not.\")\n",
        "print(f\"T-statistic: {t_statistic:.4f}\")\n",
        "print(f\"P-value: {p_value:.4f}\")\n",
        "if p_value < alpha:\n",
        "    print(\"Conclusion: Since the p-value is less than 0.05, we reject the null hypothesis. There is a significant difference in the median value of homes between properties that bound the Charles River and those that do not.\")\n",
        "else:\n",
        "    print(\"Conclusion: Since the p-value is not less than 0.05, we fail to reject the null hypothesis. There is no significant difference in the median value of homes between properties that bound the Charles River and those that do not.\")\n",
        "\n",
        "print(\"\\nANOVA (AGE Group vs. MEDV):\")\n",
        "print(\"Null Hypothesis (H0): There is no significant difference in the median value of homes across the different age groups.\")\n",
        "print(\"Alternative Hypothesis (H1): There is a significant difference in the median value of homes across the different age groups.\")\n",
        "f_statistic = anova_table['F'][0]\n",
        "anova_p_value = anova_table['PR(>F)'][0]\n",
        "print(f\"F-statistic: {f_statistic:.4f}\")\n",
        "print(f\"P-value: {anova_p_value:.4f}\")\n",
        "if anova_p_value < alpha:\n",
        "    print(\"Conclusion: Since the p-value is less than 0.05, we reject the null hypothesis. There is a significant difference in the median value of homes across the different age groups.\")\n",
        "else:\n",
        "    print(\"Conclusion: Since the p-value is not less than 0.05, we fail to reject the null hypothesis. There is no significant difference in the median value of homes across the different age groups.\")\n",
        "\n",
        "print(\"\\nPearson Correlation (NOX vs. INDUS):\")\n",
        "print(\"Null Hypothesis (H0): There is no significant correlation between Nitric oxide concentrations and the proportion of non-retail business acres per town.\")\n",
        "print(\"Alternative Hypothesis (H1): There is a significant correlation between Nitric oxide concentrations and the proportion of non-retail business acres per town.\")\n",
        "print(f\"Pearson correlation coefficient: {correlation_coefficient:.4f}\")\n",
        "print(f\"P-value: {p_value:.4f}\")\n",
        "if p_value < alpha:\n",
        "    print(\"Conclusion: Since the p-value is less than 0.05, we reject the null hypothesis. There is a significant correlation between Nitric oxide concentrations and the proportion of non-retail business acres per town.\")\n",
        "else:\n",
        "    print(\"Conclusion: Since the p-value is not less than 0.05, we fail to reject the null hypothesis. There is no significant correlation between Nitric oxide concentrations and the proportion of non-retail business acres per town.\")\n",
        "\n",
        "print(\"\\nRegression Analysis (DIS on MEDV):\")\n",
        "print(\"Null Hypothesis (H0): The weighted distance to five Boston employment centers (DIS) has no significant impact on the median value of homes (MEDV) (i.e., the coefficient for DIS is zero).\")\n",
        "print(\"Alternative Hypothesis (H1): The weighted distance to five Boston employment centers (DIS) has a significant impact on the median value of homes (MEDV) (i.e., the coefficient for DIS is not zero).\")\n",
        "regression_summary = sm.OLS(y, X).fit().summary()\n",
        "regression_coefficient = regression_summary.tables[1][1][1]\n",
        "regression_t_statistic = regression_summary.tables[1][1][3]\n",
        "regression_p_value = regression_summary.tables[1][1][4]\n",
        "print(f\"Regression Coefficient for DIS: {regression_coefficient}\")\n",
        "print(f\"T-statistic for DIS: {regression_t_statistic}\")\n",
        "print(f\"P-value for DIS: {regression_p_value}\")\n",
        "if float(regression_p_value) < alpha:\n",
        "    print(\"Conclusion: Since the p-value is less than 0.05, we reject the null hypothesis. The weighted distance to employment centers (DIS) has a significant impact on the median value of homes (MEDV).\")\n",
        "else:\n",
        "    print(\"Conclusion: Since the p-value is not less than 0.05, we fail to reject the null hypothesis. The weighted distance to employment centers (DIS) does not have a significant impact on the median value of homes (MEDV).\")"
      ],
      "execution_count": 19,
      "outputs": [
        {
          "output_type": "stream",
          "name": "stdout",
          "text": [
            "T-test (CHAS vs. MEDV):\n",
            "Null Hypothesis (H0): There is no significant difference in the median value of homes between properties that bound the Charles River and those that do not.\n",
            "Alternative Hypothesis (H1): There is a significant difference in the median value of homes between properties that bound the Charles River and those that do not.\n",
            "T-statistic: -3.9964\n",
            "P-value: 0.0000\n",
            "Conclusion: Since the p-value is less than 0.05, we reject the null hypothesis. There is a significant difference in the median value of homes between properties that bound the Charles River and those that do not.\n",
            "\n",
            "ANOVA (AGE Group vs. MEDV):\n",
            "Null Hypothesis (H0): There is no significant difference in the median value of homes across the different age groups.\n",
            "Alternative Hypothesis (H1): There is a significant difference in the median value of homes across the different age groups.\n",
            "F-statistic: 36.4076\n",
            "P-value: 0.0000\n",
            "Conclusion: Since the p-value is less than 0.05, we reject the null hypothesis. There is a significant difference in the median value of homes across the different age groups.\n",
            "\n",
            "Pearson Correlation (NOX vs. INDUS):\n",
            "Null Hypothesis (H0): There is no significant correlation between Nitric oxide concentrations and the proportion of non-retail business acres per town.\n",
            "Alternative Hypothesis (H1): There is a significant correlation between Nitric oxide concentrations and the proportion of non-retail business acres per town.\n",
            "Pearson correlation coefficient: 0.7637\n",
            "P-value: 0.0000\n",
            "Conclusion: Since the p-value is less than 0.05, we reject the null hypothesis. There is a significant correlation between Nitric oxide concentrations and the proportion of non-retail business acres per town.\n",
            "\n",
            "Regression Analysis (DIS on MEDV):\n",
            "Null Hypothesis (H0): The weighted distance to five Boston employment centers (DIS) has no significant impact on the median value of homes (MEDV) (i.e., the coefficient for DIS is zero).\n",
            "Alternative Hypothesis (H1): The weighted distance to five Boston employment centers (DIS) has a significant impact on the median value of homes (MEDV) (i.e., the coefficient for DIS is not zero).\n",
            "Regression Coefficient for DIS:    18.3901\n",
            "T-statistic for DIS:    22.499\n",
            "P-value for DIS:  0.000\n"
          ]
        },
        {
          "output_type": "stream",
          "name": "stderr",
          "text": [
            "/tmp/ipython-input-979191721.py:17: FutureWarning: Series.__getitem__ treating keys as positions is deprecated. In a future version, integer keys will always be treated as labels (consistent with DataFrame behavior). To access a value by position, use `ser.iloc[pos]`\n",
            "  f_statistic = anova_table['F'][0]\n",
            "/tmp/ipython-input-979191721.py:18: FutureWarning: Series.__getitem__ treating keys as positions is deprecated. In a future version, integer keys will always be treated as labels (consistent with DataFrame behavior). To access a value by position, use `ser.iloc[pos]`\n",
            "  anova_p_value = anova_table['PR(>F)'][0]\n"
          ]
        },
        {
          "output_type": "error",
          "ename": "TypeError",
          "evalue": "float() argument must be a string or a real number, not 'Cell'",
          "traceback": [
            "\u001b[0;31m---------------------------------------------------------------------------\u001b[0m",
            "\u001b[0;31mTypeError\u001b[0m                                 Traceback (most recent call last)",
            "\u001b[0;32m/tmp/ipython-input-979191721.py\u001b[0m in \u001b[0;36m<cell line: 0>\u001b[0;34m()\u001b[0m\n\u001b[1;32m     44\u001b[0m \u001b[0mprint\u001b[0m\u001b[0;34m(\u001b[0m\u001b[0;34mf\"T-statistic for DIS: {regression_t_statistic}\"\u001b[0m\u001b[0;34m)\u001b[0m\u001b[0;34m\u001b[0m\u001b[0;34m\u001b[0m\u001b[0m\n\u001b[1;32m     45\u001b[0m \u001b[0mprint\u001b[0m\u001b[0;34m(\u001b[0m\u001b[0;34mf\"P-value for DIS: {regression_p_value}\"\u001b[0m\u001b[0;34m)\u001b[0m\u001b[0;34m\u001b[0m\u001b[0;34m\u001b[0m\u001b[0m\n\u001b[0;32m---> 46\u001b[0;31m \u001b[0;32mif\u001b[0m \u001b[0mfloat\u001b[0m\u001b[0;34m(\u001b[0m\u001b[0mregression_p_value\u001b[0m\u001b[0;34m)\u001b[0m \u001b[0;34m<\u001b[0m \u001b[0malpha\u001b[0m\u001b[0;34m:\u001b[0m\u001b[0;34m\u001b[0m\u001b[0;34m\u001b[0m\u001b[0m\n\u001b[0m\u001b[1;32m     47\u001b[0m     \u001b[0mprint\u001b[0m\u001b[0;34m(\u001b[0m\u001b[0;34m\"Conclusion: Since the p-value is less than 0.05, we reject the null hypothesis. The weighted distance to employment centers (DIS) has a significant impact on the median value of homes (MEDV).\"\u001b[0m\u001b[0;34m)\u001b[0m\u001b[0;34m\u001b[0m\u001b[0;34m\u001b[0m\u001b[0m\n\u001b[1;32m     48\u001b[0m \u001b[0;32melse\u001b[0m\u001b[0;34m:\u001b[0m\u001b[0;34m\u001b[0m\u001b[0;34m\u001b[0m\u001b[0m\n",
            "\u001b[0;31mTypeError\u001b[0m: float() argument must be a string or a real number, not 'Cell'"
          ]
        }
      ]
    },
    {
      "cell_type": "markdown",
      "metadata": {
        "id": "a5ae7dea"
      },
      "source": [
        "**Reasoning**:\n",
        "The previous code block failed because the regression summary table elements were not correctly converted to float before comparison. The code needs to be regenerated with the correct type casting.\n",
        "\n"
      ]
    },
    {
      "cell_type": "code",
      "metadata": {
        "colab": {
          "base_uri": "https://localhost:8080/",
          "height": 734
        },
        "id": "siJnYgfBO3wG",
        "outputId": "e3344cb4-9bd6-4165-ba8f-9f0ecf985fe4"
      },
      "source": [
        "alpha = 0.05\n",
        "\n",
        "# T-test conclusion\n",
        "print(\"T-test (CHAS vs. MEDV):\")\n",
        "print(\"Null Hypothesis (H0): There is no significant difference in the median value of homes between properties that bound the Charles River and those that do not.\")\n",
        "print(\"Alternative Hypothesis (H1): There is a significant difference in the median value of homes between properties that bound the Charles River and those that do not.\")\n",
        "print(f\"T-statistic: {t_statistic:.4f}\")\n",
        "print(f\"P-value: {p_value:.4f}\")\n",
        "if p_value < alpha:\n",
        "    print(\"Conclusion: Since the p-value is less than 0.05, we reject the null hypothesis. There is a significant difference in the median value of homes between properties that bound the Charles River and those that do not.\")\n",
        "else:\n",
        "    print(\"Conclusion: Since the p-value is not less than 0.05, we fail to reject the null hypothesis. There is no significant difference in the median value of homes between properties that bound the Charles River and those that do not.\")\n",
        "\n",
        "print(\"\\nANOVA (AGE Group vs. MEDV):\")\n",
        "print(\"Null Hypothesis (H0): There is no significant difference in the median value of homes across the different age groups.\")\n",
        "print(\"Alternative Hypothesis (H1): There is a significant difference in the median value of homes across the different age groups.\")\n",
        "f_statistic = anova_table['F'][0]\n",
        "anova_p_value = anova_table['PR(>F)'][0]\n",
        "print(f\"F-statistic: {f_statistic:.4f}\")\n",
        "print(f\"P-value: {anova_p_value:.4f}\")\n",
        "if anova_p_value < alpha:\n",
        "    print(\"Conclusion: Since the p-value is less than 0.05, we reject the null hypothesis. There is a significant difference in the median value of homes across the different age groups.\")\n",
        "else:\n",
        "    print(\"Conclusion: Since the p_value is not less than 0.05, we fail to reject the null hypothesis. There is no significant difference in the median value of homes across the different age groups.\")\n",
        "\n",
        "print(\"\\nPearson Correlation (NOX vs. INDUS):\")\n",
        "print(\"Null Hypothesis (H0): There is no significant correlation between Nitric oxide concentrations and the proportion of non-retail business acres per town.\")\n",
        "print(\"Alternative Hypothesis (H1): There is a significant correlation between Nitric oxide concentrations and the proportion of non-retail business acres per town.\")\n",
        "print(f\"Pearson correlation coefficient: {correlation_coefficient:.4f}\")\n",
        "print(f\"P-value: {p_value:.4f}\")\n",
        "if p_value < alpha:\n",
        "    print(\"Conclusion: Since the p-value is less than 0.05, we reject the null hypothesis. There is a significant correlation between Nitric oxide concentrations and the proportion of non-retail business acres per town.\")\n",
        "else:\n",
        "    print(\"Conclusion: Since the p-value is not less than 0.05, we fail to reject the null hypothesis. There is no significant correlation between Nitric oxide concentrations and the proportion of non-retail business acres per town.\")\n",
        "\n",
        "print(\"\\nRegression Analysis (DIS on MEDV):\")\n",
        "print(\"Null Hypothesis (H0): The weighted distance to five Boston employment centers (DIS) has no significant impact on the median value of homes (MEDV) (i.e., the coefficient for DIS is zero).\")\n",
        "print(\"Alternative Hypothesis (H1): The weighted distance to five Boston employment centers (DIS) has a significant impact on the median value of homes (MEDV) (i.e., the coefficient for DIS is not zero).\")\n",
        "regression_summary = sm.OLS(y, X).fit().summary()\n",
        "regression_coefficient = float(regression_summary.tables[1][1][1])\n",
        "regression_t_statistic = float(regression_summary.tables[1][1][3])\n",
        "regression_p_value = float(regression_summary.tables[1][1][4])\n",
        "print(f\"Regression Coefficient for DIS: {regression_coefficient}\")\n",
        "print(f\"T-statistic for DIS: {regression_t_statistic}\")\n",
        "print(f\"P-value for DIS: {regression_p_value}\")\n",
        "if regression_p_value < alpha:\n",
        "    print(\"Conclusion: Since the p-value is less than 0.05, we reject the null hypothesis. The weighted distance to employment centers (DIS) has a significant impact on the median value of homes (MEDV).\")\n",
        "else:\n",
        "    print(\"Conclusion: Since the p-value is not less than 0.05, we fail to reject the null hypothesis. The weighted distance to employment centers (DIS) does not have a significant impact on the median value of homes (MEDV).\")"
      ],
      "execution_count": 20,
      "outputs": [
        {
          "output_type": "stream",
          "name": "stdout",
          "text": [
            "T-test (CHAS vs. MEDV):\n",
            "Null Hypothesis (H0): There is no significant difference in the median value of homes between properties that bound the Charles River and those that do not.\n",
            "Alternative Hypothesis (H1): There is a significant difference in the median value of homes between properties that bound the Charles River and those that do not.\n",
            "T-statistic: -3.9964\n",
            "P-value: 0.0000\n",
            "Conclusion: Since the p-value is less than 0.05, we reject the null hypothesis. There is a significant difference in the median value of homes between properties that bound the Charles River and those that do not.\n",
            "\n",
            "ANOVA (AGE Group vs. MEDV):\n",
            "Null Hypothesis (H0): There is no significant difference in the median value of homes across the different age groups.\n",
            "Alternative Hypothesis (H1): There is a significant difference in the median value of homes across the different age groups.\n",
            "F-statistic: 36.4076\n",
            "P-value: 0.0000\n",
            "Conclusion: Since the p-value is less than 0.05, we reject the null hypothesis. There is a significant difference in the median value of homes across the different age groups.\n",
            "\n",
            "Pearson Correlation (NOX vs. INDUS):\n",
            "Null Hypothesis (H0): There is no significant correlation between Nitric oxide concentrations and the proportion of non-retail business acres per town.\n",
            "Alternative Hypothesis (H1): There is a significant correlation between Nitric oxide concentrations and the proportion of non-retail business acres per town.\n",
            "Pearson correlation coefficient: 0.7637\n",
            "P-value: 0.0000\n",
            "Conclusion: Since the p-value is less than 0.05, we reject the null hypothesis. There is a significant correlation between Nitric oxide concentrations and the proportion of non-retail business acres per town.\n",
            "\n",
            "Regression Analysis (DIS on MEDV):\n",
            "Null Hypothesis (H0): The weighted distance to five Boston employment centers (DIS) has no significant impact on the median value of homes (MEDV) (i.e., the coefficient for DIS is zero).\n",
            "Alternative Hypothesis (H1): The weighted distance to five Boston employment centers (DIS) has a significant impact on the median value of homes (MEDV) (i.e., the coefficient for DIS is not zero).\n"
          ]
        },
        {
          "output_type": "stream",
          "name": "stderr",
          "text": [
            "/tmp/ipython-input-2763875409.py:17: FutureWarning: Series.__getitem__ treating keys as positions is deprecated. In a future version, integer keys will always be treated as labels (consistent with DataFrame behavior). To access a value by position, use `ser.iloc[pos]`\n",
            "  f_statistic = anova_table['F'][0]\n",
            "/tmp/ipython-input-2763875409.py:18: FutureWarning: Series.__getitem__ treating keys as positions is deprecated. In a future version, integer keys will always be treated as labels (consistent with DataFrame behavior). To access a value by position, use `ser.iloc[pos]`\n",
            "  anova_p_value = anova_table['PR(>F)'][0]\n"
          ]
        },
        {
          "output_type": "error",
          "ename": "TypeError",
          "evalue": "float() argument must be a string or a real number, not 'Cell'",
          "traceback": [
            "\u001b[0;31m---------------------------------------------------------------------------\u001b[0m",
            "\u001b[0;31mTypeError\u001b[0m                                 Traceback (most recent call last)",
            "\u001b[0;32m/tmp/ipython-input-2763875409.py\u001b[0m in \u001b[0;36m<cell line: 0>\u001b[0;34m()\u001b[0m\n\u001b[1;32m     38\u001b[0m \u001b[0mprint\u001b[0m\u001b[0;34m(\u001b[0m\u001b[0;34m\"Alternative Hypothesis (H1): The weighted distance to five Boston employment centers (DIS) has a significant impact on the median value of homes (MEDV) (i.e., the coefficient for DIS is not zero).\"\u001b[0m\u001b[0;34m)\u001b[0m\u001b[0;34m\u001b[0m\u001b[0;34m\u001b[0m\u001b[0m\n\u001b[1;32m     39\u001b[0m \u001b[0mregression_summary\u001b[0m \u001b[0;34m=\u001b[0m \u001b[0msm\u001b[0m\u001b[0;34m.\u001b[0m\u001b[0mOLS\u001b[0m\u001b[0;34m(\u001b[0m\u001b[0my\u001b[0m\u001b[0;34m,\u001b[0m \u001b[0mX\u001b[0m\u001b[0;34m)\u001b[0m\u001b[0;34m.\u001b[0m\u001b[0mfit\u001b[0m\u001b[0;34m(\u001b[0m\u001b[0;34m)\u001b[0m\u001b[0;34m.\u001b[0m\u001b[0msummary\u001b[0m\u001b[0;34m(\u001b[0m\u001b[0;34m)\u001b[0m\u001b[0;34m\u001b[0m\u001b[0;34m\u001b[0m\u001b[0m\n\u001b[0;32m---> 40\u001b[0;31m \u001b[0mregression_coefficient\u001b[0m \u001b[0;34m=\u001b[0m \u001b[0mfloat\u001b[0m\u001b[0;34m(\u001b[0m\u001b[0mregression_summary\u001b[0m\u001b[0;34m.\u001b[0m\u001b[0mtables\u001b[0m\u001b[0;34m[\u001b[0m\u001b[0;36m1\u001b[0m\u001b[0;34m]\u001b[0m\u001b[0;34m[\u001b[0m\u001b[0;36m1\u001b[0m\u001b[0;34m]\u001b[0m\u001b[0;34m[\u001b[0m\u001b[0;36m1\u001b[0m\u001b[0;34m]\u001b[0m\u001b[0;34m)\u001b[0m\u001b[0;34m\u001b[0m\u001b[0;34m\u001b[0m\u001b[0m\n\u001b[0m\u001b[1;32m     41\u001b[0m \u001b[0mregression_t_statistic\u001b[0m \u001b[0;34m=\u001b[0m \u001b[0mfloat\u001b[0m\u001b[0;34m(\u001b[0m\u001b[0mregression_summary\u001b[0m\u001b[0;34m.\u001b[0m\u001b[0mtables\u001b[0m\u001b[0;34m[\u001b[0m\u001b[0;36m1\u001b[0m\u001b[0;34m]\u001b[0m\u001b[0;34m[\u001b[0m\u001b[0;36m1\u001b[0m\u001b[0;34m]\u001b[0m\u001b[0;34m[\u001b[0m\u001b[0;36m3\u001b[0m\u001b[0;34m]\u001b[0m\u001b[0;34m)\u001b[0m\u001b[0;34m\u001b[0m\u001b[0;34m\u001b[0m\u001b[0m\n\u001b[1;32m     42\u001b[0m \u001b[0mregression_p_value\u001b[0m \u001b[0;34m=\u001b[0m \u001b[0mfloat\u001b[0m\u001b[0;34m(\u001b[0m\u001b[0mregression_summary\u001b[0m\u001b[0;34m.\u001b[0m\u001b[0mtables\u001b[0m\u001b[0;34m[\u001b[0m\u001b[0;36m1\u001b[0m\u001b[0;34m]\u001b[0m\u001b[0;34m[\u001b[0m\u001b[0;36m1\u001b[0m\u001b[0;34m]\u001b[0m\u001b[0;34m[\u001b[0m\u001b[0;36m4\u001b[0m\u001b[0;34m]\u001b[0m\u001b[0;34m)\u001b[0m\u001b[0;34m\u001b[0m\u001b[0;34m\u001b[0m\u001b[0m\n",
            "\u001b[0;31mTypeError\u001b[0m: float() argument must be a string or a real number, not 'Cell'"
          ]
        }
      ]
    },
    {
      "cell_type": "markdown",
      "metadata": {
        "id": "4c7e46fb"
      },
      "source": [
        "**Reasoning**:\n",
        "The previous code block failed again because the regression summary table elements are still not being correctly converted to float. The code needs to be regenerated with the correct type casting.\n",
        "\n"
      ]
    },
    {
      "cell_type": "code",
      "metadata": {
        "colab": {
          "base_uri": "https://localhost:8080/"
        },
        "id": "O3X3AzHhO67L",
        "outputId": "a09e8a9a-102b-434d-b778-8afebbd0b0e1"
      },
      "source": [
        "alpha = 0.05\n",
        "\n",
        "# T-test conclusion\n",
        "print(\"T-test (CHAS vs. MEDV):\")\n",
        "print(\"Null Hypothesis (H0): There is no significant difference in the median value of homes between properties that bound the Charles River and those that do not.\")\n",
        "print(\"Alternative Hypothesis (H1): There is a significant difference in the median value of homes between properties that bound the Charles River and those that do not.\")\n",
        "print(f\"T-statistic: {t_statistic:.4f}\")\n",
        "print(f\"P-value: {p_value:.4f}\")\n",
        "if p_value < alpha:\n",
        "    print(\"Conclusion: Since the p-value is less than 0.05, we reject the null hypothesis. There is a significant difference in the median value of homes between properties that bound the Charles River and those that do not.\")\n",
        "else:\n",
        "    print(\"Conclusion: Since the p-value is not less than 0.05, we fail to reject the null hypothesis. There is no significant difference in the median value of homes between properties that bound the Charles River and those that do not.\")\n",
        "\n",
        "print(\"\\nANOVA (AGE Group vs. MEDV):\")\n",
        "print(\"Null Hypothesis (H0): There is no significant difference in the median value of homes across the different age groups.\")\n",
        "print(\"Alternative Hypothesis (H1): There is a significant difference in the median value of homes across the different age groups.\")\n",
        "f_statistic = anova_table['F'][0]\n",
        "anova_p_value = anova_table['PR(>F)'][0]\n",
        "print(f\"F-statistic: {f_statistic:.4f}\")\n",
        "print(f\"P-value: {anova_p_value:.4f}\")\n",
        "if anova_p_value < alpha:\n",
        "    print(\"Conclusion: Since the p-value is less than 0.05, we reject the null hypothesis. There is a significant difference in the median value of homes across the different age groups.\")\n",
        "else:\n",
        "    print(\"Conclusion: Since the p_value is not less than 0.05, we fail to reject the null hypothesis. There is no significant difference in the median value of homes across the different age groups.\")\n",
        "\n",
        "print(\"\\nPearson Correlation (NOX vs. INDUS):\")\n",
        "print(\"Null Hypothesis (H0): There is no significant correlation between Nitric oxide concentrations and the proportion of non-retail business acres per town.\")\n",
        "print(\"Alternative Hypothesis (H1): There is a significant correlation between Nitric oxide concentrations and the proportion of non-retail business acres per town.\")\n",
        "print(f\"Pearson correlation coefficient: {correlation_coefficient:.4f}\")\n",
        "print(f\"P-value: {p_value:.4f}\")\n",
        "if p_value < alpha:\n",
        "    print(\"Conclusion: Since the p-value is less than 0.05, we reject the null hypothesis. There is a significant correlation between Nitric oxide concentrations and the proportion of non-retail business acres per town.\")\n",
        "else:\n",
        "    print(\"Conclusion: Since the p_value is not less than 0.05, we fail to reject the null hypothesis. There is no significant correlation between Nitric oxide concentrations and the proportion of non-retail business acres per town.\")\n",
        "\n",
        "print(\"\\nRegression Analysis (DIS on MEDV):\")\n",
        "print(\"Null Hypothesis (H0): The weighted distance to five Boston employment centers (DIS) has no significant impact on the median value of homes (MEDV) (i.e., the coefficient for DIS is zero).\")\n",
        "print(\"Alternative Hypothesis (H1): The weighted distance to five Boston employment centers (DIS) has a significant impact on the median value of homes (MEDV) (i.e., the coefficient for DIS is not zero).\")\n",
        "regression_summary = sm.OLS(y, X).fit().summary()\n",
        "regression_results_as_html = regression_summary.as_html()\n",
        "regression_df = pd.read_html(regression_results_as_html, header=0, index_col=0)[1]\n",
        "\n",
        "regression_coefficient = float(regression_df.loc['DIS', 'coef'])\n",
        "regression_t_statistic = float(regression_df.loc['DIS', 't'])\n",
        "regression_p_value = float(regression_df.loc['DIS', 'P>|t|'])\n",
        "\n",
        "print(f\"Regression Coefficient for DIS: {regression_coefficient}\")\n",
        "print(f\"T-statistic for DIS: {regression_t_statistic}\")\n",
        "print(f\"P-value for DIS: {regression_p_value}\")\n",
        "if regression_p_value < alpha:\n",
        "    print(\"Conclusion: Since the p-value is less than 0.05, we reject the null hypothesis. The weighted distance to employment centers (DIS) has a significant impact on the median value of homes (MEDV).\")\n",
        "else:\n",
        "    print(\"Conclusion: Since the p-value is not less than 0.05, we fail to reject the null hypothesis. The weighted distance to employment centers (DIS) does not have a significant impact on the median value of homes (MEDV).\")"
      ],
      "execution_count": 21,
      "outputs": [
        {
          "output_type": "stream",
          "name": "stdout",
          "text": [
            "T-test (CHAS vs. MEDV):\n",
            "Null Hypothesis (H0): There is no significant difference in the median value of homes between properties that bound the Charles River and those that do not.\n",
            "Alternative Hypothesis (H1): There is a significant difference in the median value of homes between properties that bound the Charles River and those that do not.\n",
            "T-statistic: -3.9964\n",
            "P-value: 0.0000\n",
            "Conclusion: Since the p-value is less than 0.05, we reject the null hypothesis. There is a significant difference in the median value of homes between properties that bound the Charles River and those that do not.\n",
            "\n",
            "ANOVA (AGE Group vs. MEDV):\n",
            "Null Hypothesis (H0): There is no significant difference in the median value of homes across the different age groups.\n",
            "Alternative Hypothesis (H1): There is a significant difference in the median value of homes across the different age groups.\n",
            "F-statistic: 36.4076\n",
            "P-value: 0.0000\n",
            "Conclusion: Since the p-value is less than 0.05, we reject the null hypothesis. There is a significant difference in the median value of homes across the different age groups.\n",
            "\n",
            "Pearson Correlation (NOX vs. INDUS):\n",
            "Null Hypothesis (H0): There is no significant correlation between Nitric oxide concentrations and the proportion of non-retail business acres per town.\n",
            "Alternative Hypothesis (H1): There is a significant correlation between Nitric oxide concentrations and the proportion of non-retail business acres per town.\n",
            "Pearson correlation coefficient: 0.7637\n",
            "P-value: 0.0000\n",
            "Conclusion: Since the p-value is less than 0.05, we reject the null hypothesis. There is a significant correlation between Nitric oxide concentrations and the proportion of non-retail business acres per town.\n",
            "\n",
            "Regression Analysis (DIS on MEDV):\n",
            "Null Hypothesis (H0): The weighted distance to five Boston employment centers (DIS) has no significant impact on the median value of homes (MEDV) (i.e., the coefficient for DIS is zero).\n",
            "Alternative Hypothesis (H1): The weighted distance to five Boston employment centers (DIS) has a significant impact on the median value of homes (MEDV) (i.e., the coefficient for DIS is not zero).\n"
          ]
        },
        {
          "output_type": "stream",
          "name": "stderr",
          "text": [
            "/tmp/ipython-input-1590616371.py:17: FutureWarning: Series.__getitem__ treating keys as positions is deprecated. In a future version, integer keys will always be treated as labels (consistent with DataFrame behavior). To access a value by position, use `ser.iloc[pos]`\n",
            "  f_statistic = anova_table['F'][0]\n",
            "/tmp/ipython-input-1590616371.py:18: FutureWarning: Series.__getitem__ treating keys as positions is deprecated. In a future version, integer keys will always be treated as labels (consistent with DataFrame behavior). To access a value by position, use `ser.iloc[pos]`\n",
            "  anova_p_value = anova_table['PR(>F)'][0]\n",
            "/tmp/ipython-input-1590616371.py:41: FutureWarning: Passing literal html to 'read_html' is deprecated and will be removed in a future version. To read from a literal string, wrap it in a 'StringIO' object.\n",
            "  regression_df = pd.read_html(regression_results_as_html, header=0, index_col=0)[1]\n"
          ]
        },
        {
          "output_type": "stream",
          "name": "stdout",
          "text": [
            "Regression Coefficient for DIS: 1.0916\n",
            "T-statistic for DIS: 5.795\n",
            "P-value for DIS: 0.0\n",
            "Conclusion: Since the p-value is less than 0.05, we reject the null hypothesis. The weighted distance to employment centers (DIS) has a significant impact on the median value of homes (MEDV).\n"
          ]
        }
      ]
    },
    {
      "cell_type": "markdown",
      "metadata": {
        "id": "c20e8c64"
      },
      "source": [
        "## Summary:\n",
        "\n",
        "### Data Analysis Key Findings\n",
        "\n",
        "*   **T-test:** There is a significant difference in the median value of homes between properties that bound the Charles River and those that do not (p-value = 0.0001).\n",
        "*   **ANOVA:** There is a significant difference in the median value of homes across different age groups (p-value = 1.71e-15).\n",
        "*   **Pearson Correlation:** There is a significant positive correlation between Nitric oxide concentrations and the proportion of non-retail business acres per town (correlation coefficient $\\approx$ 0.7637, p-value $\\approx$ 0.0000).\n",
        "*   **Regression Analysis:** The weighted distance to five Boston employment centers (DIS) has a significant positive impact on the median value of homes (MEDV) (coefficient $\\approx$ 1.09, p-value $\\approx$ 0.0000).\n",
        "\n",
        "### Insights or Next Steps\n",
        "\n",
        "*   Investigate the nature of the relationship between AGE groups and MEDV to understand which specific age groups have significantly different median home values.\n",
        "*   Explore potential confounding factors that might contribute to the observed correlation between NOX and INDUS.\n"
      ]
    }
  ],
  "metadata": {
    "kernelspec": {
      "name": "python3",
      "display_name": "Python 3 (ipykernel)",
      "language": "python"
    },
    "language_info": {
      "name": "python",
      "version": "3.11.9",
      "mimetype": "text/x-python",
      "codemirror_mode": {
        "name": "ipython",
        "version": 3
      },
      "pygments_lexer": "ipython3",
      "nbconvert_exporter": "python",
      "file_extension": ".py"
    },
    "prev_pub_hash": "e8217a69c6d5ee68d06c806e939831533d260fbfc123f81d52c578e9136390dd",
    "colab": {
      "provenance": []
    }
  },
  "nbformat": 4,
  "nbformat_minor": 0
}